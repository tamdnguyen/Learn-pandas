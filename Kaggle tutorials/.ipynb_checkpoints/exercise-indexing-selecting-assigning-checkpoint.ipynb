{
 "cells": [
  {
   "cell_type": "markdown",
   "metadata": {},
   "source": [
    "**This notebook is an exercise in the [Pandas](https://www.kaggle.com/learn/pandas) course.  You can reference the tutorial at [this link](https://www.kaggle.com/residentmario/indexing-selecting-assigning).**\n",
    "\n",
    "---\n"
   ]
  },
  {
   "cell_type": "markdown",
   "metadata": {},
   "source": [
    "# Introduction\n",
    "\n",
    "In this set of exercises we will work with the [Wine Reviews dataset](https://www.kaggle.com/zynicide/wine-reviews). "
   ]
  },
  {
   "cell_type": "markdown",
   "metadata": {},
   "source": [
    "Run the following cell to load your data and some utility functions (including code to check your answers)."
   ]
  },
  {
   "cell_type": "code",
   "execution_count": 2,
   "metadata": {
    "execution": {
     "iopub.execute_input": "2022-01-02T13:30:51.790129Z",
     "iopub.status.busy": "2022-01-02T13:30:51.789831Z",
     "iopub.status.idle": "2022-01-02T13:30:52.653775Z",
     "shell.execute_reply": "2022-01-02T13:30:52.652628Z",
     "shell.execute_reply.started": "2022-01-02T13:30:51.790100Z"
    }
   },
   "outputs": [],
   "source": [
    "import pandas as pd\n",
    "\n",
    "reviews = pd.read_csv(\"../input/wine-reviews/winemag-data-130k-v2.csv\", index_col=0)\n",
    "pd.set_option(\"display.max_rows\", 5)\n",
    "\n",
    "from learntools.core import binder; binder.bind(globals())\n",
    "from learntools.pandas.indexing_selecting_and_assigning import *\n",
    "print(\"Setup complete.\")"
   ]
  },
  {
   "cell_type": "markdown",
   "metadata": {},
   "source": [
    "Look at an overview of your data by running the following line."
   ]
  },
  {
   "cell_type": "code",
   "execution_count": 3,
   "metadata": {
    "execution": {
     "iopub.execute_input": "2022-01-02T13:30:58.208798Z",
     "iopub.status.busy": "2022-01-02T13:30:58.208043Z",
     "iopub.status.idle": "2022-01-02T13:30:58.234499Z",
     "shell.execute_reply": "2022-01-02T13:30:58.234050Z",
     "shell.execute_reply.started": "2022-01-02T13:30:58.208759Z"
    }
   },
   "outputs": [],
   "source": [
    "reviews.head()"
   ]
  },
  {
   "cell_type": "markdown",
   "metadata": {},
   "source": [
    "# Exercises"
   ]
  },
  {
   "cell_type": "markdown",
   "metadata": {},
   "source": [
    "## 1.\n",
    "\n",
    "Select the `description` column from `reviews` and assign the result to the variable `desc`."
   ]
  },
  {
   "cell_type": "code",
   "execution_count": 6,
   "metadata": {
    "execution": {
     "iopub.execute_input": "2022-01-02T13:45:18.101135Z",
     "iopub.status.busy": "2022-01-02T13:45:18.100859Z",
     "iopub.status.idle": "2022-01-02T13:45:18.109618Z",
     "shell.execute_reply": "2022-01-02T13:45:18.109033Z",
     "shell.execute_reply.started": "2022-01-02T13:45:18.101107Z"
    }
   },
   "outputs": [],
   "source": [
    "# Your code here\n",
    "desc = reviews[\"description\"]\n",
    "\n",
    "# Check your answer\n",
    "q1.check()\n"
   ]
  },
  {
   "cell_type": "markdown",
   "metadata": {},
   "source": [
    "Follow-up question: what type of object is `desc`? If you're not sure, you can check by calling Python's `type` function: `type(desc)`."
   ]
  },
  {
   "cell_type": "code",
   "execution_count": null,
   "metadata": {},
   "outputs": [],
   "source": [
    "#q1.hint()\n",
    "#q1.solution()"
   ]
  },
  {
   "cell_type": "markdown",
   "metadata": {},
   "source": [
    "## 2.\n",
    "\n",
    "Select the first value from the description column of `reviews`, assigning it to variable `first_description`."
   ]
  },
  {
   "cell_type": "code",
   "execution_count": 7,
   "metadata": {
    "execution": {
     "iopub.execute_input": "2022-01-02T13:46:17.961129Z",
     "iopub.status.busy": "2022-01-02T13:46:17.960685Z",
     "iopub.status.idle": "2022-01-02T13:46:17.976032Z",
     "shell.execute_reply": "2022-01-02T13:46:17.974865Z",
     "shell.execute_reply.started": "2022-01-02T13:46:17.961077Z"
    }
   },
   "outputs": [],
   "source": [
    "first_description = reviews.description[0]\n",
    "\n",
    "# Check your answer\n",
    "q2.check()\n",
    "first_description"
   ]
  },
  {
   "cell_type": "code",
   "execution_count": null,
   "metadata": {},
   "outputs": [],
   "source": [
    "#q2.hint()\n",
    "#q2.solution()"
   ]
  },
  {
   "cell_type": "markdown",
   "metadata": {},
   "source": [
    "## 3. \n",
    "\n",
    "Select the first row of data (the first record) from `reviews`, assigning it to the variable `first_row`."
   ]
  },
  {
   "cell_type": "code",
   "execution_count": 12,
   "metadata": {
    "execution": {
     "iopub.execute_input": "2022-01-02T13:51:48.072458Z",
     "iopub.status.busy": "2022-01-02T13:51:48.071898Z",
     "iopub.status.idle": "2022-01-02T13:51:48.084408Z",
     "shell.execute_reply": "2022-01-02T13:51:48.082676Z",
     "shell.execute_reply.started": "2022-01-02T13:51:48.072410Z"
    }
   },
   "outputs": [],
   "source": [
    "first_row = reviews.iloc[0]\n",
    "\n",
    "# Check your answer\n",
    "q3.check()\n",
    "first_row"
   ]
  },
  {
   "cell_type": "code",
   "execution_count": null,
   "metadata": {},
   "outputs": [],
   "source": [
    "#q3.hint()\n",
    "#q3.solution()"
   ]
  },
  {
   "cell_type": "markdown",
   "metadata": {},
   "source": [
    "## 4.\n",
    "\n",
    "Select the first 10 values from the `description` column in `reviews`, assigning the result to variable `first_descriptions`.\n",
    "\n",
    "Hint: format your output as a pandas Series."
   ]
  },
  {
   "cell_type": "code",
   "execution_count": 18,
   "metadata": {
    "execution": {
     "iopub.execute_input": "2022-01-02T13:56:27.012114Z",
     "iopub.status.busy": "2022-01-02T13:56:27.011672Z",
     "iopub.status.idle": "2022-01-02T13:56:27.022473Z",
     "shell.execute_reply": "2022-01-02T13:56:27.022017Z",
     "shell.execute_reply.started": "2022-01-02T13:56:27.012067Z"
    }
   },
   "outputs": [],
   "source": [
    "first_descriptions = reviews[\"description\"].iloc[:10]\n",
    "\n",
    "# Check your answer\n",
    "q4.check()\n",
    "first_descriptions"
   ]
  },
  {
   "cell_type": "code",
   "execution_count": null,
   "metadata": {},
   "outputs": [],
   "source": [
    "#q4.hint()\n",
    "#q4.solution()"
   ]
  },
  {
   "cell_type": "markdown",
   "metadata": {},
   "source": [
    "## 5.\n",
    "\n",
    "Select the records with index labels `1`, `2`, `3`, `5`, and `8`, assigning the result to the variable `sample_reviews`.\n",
    "\n",
    "In other words, generate the following DataFrame:\n",
    "\n",
    "![](https://i.imgur.com/sHZvI1O.png)"
   ]
  },
  {
   "cell_type": "code",
   "execution_count": 20,
   "metadata": {
    "execution": {
     "iopub.execute_input": "2022-01-02T14:01:07.368424Z",
     "iopub.status.busy": "2022-01-02T14:01:07.368138Z",
     "iopub.status.idle": "2022-01-02T14:01:07.396438Z",
     "shell.execute_reply": "2022-01-02T14:01:07.395609Z",
     "shell.execute_reply.started": "2022-01-02T14:01:07.368394Z"
    }
   },
   "outputs": [],
   "source": [
    "sample_reviews = reviews.iloc[[1, 2, 3, 5, 8]]\n",
    "\n",
    "# Check your answer\n",
    "q5.check()\n",
    "sample_reviews"
   ]
  },
  {
   "cell_type": "code",
   "execution_count": null,
   "metadata": {},
   "outputs": [],
   "source": [
    "#q5.hint()\n",
    "#q5.solution()"
   ]
  },
  {
   "cell_type": "markdown",
   "metadata": {},
   "source": [
    "## 6.\n",
    "\n",
    "Create a variable `df` containing the `country`, `province`, `region_1`, and `region_2` columns of the records with the index labels `0`, `1`, `10`, and `100`. In other words, generate the following DataFrame:\n",
    "\n",
    "![](https://i.imgur.com/FUCGiKP.png)"
   ]
  },
  {
   "cell_type": "code",
   "execution_count": 21,
   "metadata": {
    "execution": {
     "iopub.execute_input": "2022-01-02T14:01:57.683939Z",
     "iopub.status.busy": "2022-01-02T14:01:57.683701Z",
     "iopub.status.idle": "2022-01-02T14:01:57.710414Z",
     "shell.execute_reply": "2022-01-02T14:01:57.709517Z",
     "shell.execute_reply.started": "2022-01-02T14:01:57.683916Z"
    }
   },
   "outputs": [],
   "source": [
    "df = reviews.loc[[0, 1, 10, 100], [\"country\", \"province\", \"region_1\", \"region_2\"]]\n",
    "\n",
    "# Check your answer\n",
    "q6.check()\n",
    "df"
   ]
  },
  {
   "cell_type": "code",
   "execution_count": null,
   "metadata": {},
   "outputs": [],
   "source": [
    "#q6.hint()\n",
    "#q6.solution()"
   ]
  },
  {
   "cell_type": "markdown",
   "metadata": {},
   "source": [
    "## 7.\n",
    "\n",
    "Create a variable `df` containing the `country` and `variety` columns of the first 100 records. \n",
    "\n",
    "Hint: you may use `loc` or `iloc`. When working on the answer this question and the several of the ones that follow, keep the following \"gotcha\" described in the tutorial:\n",
    "\n",
    "> `iloc` uses the Python stdlib indexing scheme, where the first element of the range is included and the last one excluded. \n",
    "`loc`, meanwhile, indexes inclusively. \n",
    "\n",
    "> This is particularly confusing when the DataFrame index is a simple numerical list, e.g. `0,...,1000`. In this case `df.iloc[0:1000]` will return 1000 entries, while `df.loc[0:1000]` return 1001 of them! To get 1000 elements using `loc`, you will need to go one lower and ask for `df.iloc[0:999]`. "
   ]
  },
  {
   "cell_type": "code",
   "execution_count": 23,
   "metadata": {
    "execution": {
     "iopub.execute_input": "2022-01-02T14:02:58.501129Z",
     "iopub.status.busy": "2022-01-02T14:02:58.500851Z",
     "iopub.status.idle": "2022-01-02T14:02:58.520472Z",
     "shell.execute_reply": "2022-01-02T14:02:58.519369Z",
     "shell.execute_reply.started": "2022-01-02T14:02:58.501077Z"
    }
   },
   "outputs": [],
   "source": [
    "df = reviews.loc[:99, [\"country\", \"variety\"]]\n",
    "\n",
    "# Check your answer\n",
    "q7.check()\n",
    "df"
   ]
  },
  {
   "cell_type": "code",
   "execution_count": null,
   "metadata": {},
   "outputs": [],
   "source": [
    "#q7.hint()\n",
    "#q7.solution()"
   ]
  },
  {
   "cell_type": "markdown",
   "metadata": {},
   "source": [
    "## 8.\n",
    "\n",
    "Create a DataFrame `italian_wines` containing reviews of wines made in `Italy`. Hint: `reviews.country` equals what?"
   ]
  },
  {
   "cell_type": "code",
   "execution_count": 26,
   "metadata": {
    "execution": {
     "iopub.execute_input": "2022-01-02T14:05:01.516155Z",
     "iopub.status.busy": "2022-01-02T14:05:01.515160Z",
     "iopub.status.idle": "2022-01-02T14:05:01.545787Z",
     "shell.execute_reply": "2022-01-02T14:05:01.545006Z",
     "shell.execute_reply.started": "2022-01-02T14:05:01.516055Z"
    }
   },
   "outputs": [],
   "source": [
    "italian_wines = reviews.loc[reviews.country == \"Italy\"]\n",
    "\n",
    "# Check your answer\n",
    "q8.check()"
   ]
  },
  {
   "cell_type": "code",
   "execution_count": null,
   "metadata": {},
   "outputs": [],
   "source": [
    "#q8.hint()\n",
    "#q8.solution()"
   ]
  },
  {
   "cell_type": "markdown",
   "metadata": {},
   "source": [
    "## 9.\n",
    "\n",
    "Create a DataFrame `top_oceania_wines` containing all reviews with at least 95 points (out of 100) for wines from Australia or New Zealand."
   ]
  },
  {
   "cell_type": "code",
   "execution_count": 36,
   "metadata": {
    "execution": {
     "iopub.execute_input": "2022-01-02T14:14:33.603882Z",
     "iopub.status.busy": "2022-01-02T14:14:33.603312Z",
     "iopub.status.idle": "2022-01-02T14:14:33.643404Z",
     "shell.execute_reply": "2022-01-02T14:14:33.642022Z",
     "shell.execute_reply.started": "2022-01-02T14:14:33.603843Z"
    }
   },
   "outputs": [],
   "source": [
    "top_oceania_wines = reviews.loc[\n",
    "    reviews.country.isin([\"Australia\", \"New Zealand\"]) \n",
    "    & (reviews.points >= 95)]\n",
    "\n",
    "# Check your answer\n",
    "q9.check()\n",
    "top_oceania_wines"
   ]
  },
  {
   "cell_type": "code",
   "execution_count": 35,
   "metadata": {
    "execution": {
     "iopub.execute_input": "2022-01-02T14:13:56.587472Z",
     "iopub.status.busy": "2022-01-02T14:13:56.587237Z",
     "iopub.status.idle": "2022-01-02T14:13:56.597934Z",
     "shell.execute_reply": "2022-01-02T14:13:56.597134Z",
     "shell.execute_reply.started": "2022-01-02T14:13:56.587442Z"
    }
   },
   "outputs": [],
   "source": [
    "# q9.hint()\n",
    "# q9.solution()"
   ]
  },
  {
   "cell_type": "markdown",
   "metadata": {},
   "source": [
    "# Keep going\n",
    "\n",
    "Move on to learn about **[summary functions and maps](https://www.kaggle.com/residentmario/summary-functions-and-maps)**."
   ]
  },
  {
   "cell_type": "markdown",
   "metadata": {},
   "source": [
    "---\n",
    "\n",
    "\n",
    "\n",
    "\n",
    "*Have questions or comments? Visit the [course discussion forum](https://www.kaggle.com/learn/pandas/discussion) to chat with other learners.*"
   ]
  }
 ],
 "metadata": {
  "kernelspec": {
   "display_name": "Python 3 (ipykernel)",
   "language": "python",
   "name": "python3"
  },
  "language_info": {
   "codemirror_mode": {
    "name": "ipython",
    "version": 3
   },
   "file_extension": ".py",
   "mimetype": "text/x-python",
   "name": "python",
   "nbconvert_exporter": "python",
   "pygments_lexer": "ipython3",
   "version": "3.9.7"
  }
 },
 "nbformat": 4,
 "nbformat_minor": 4
}
